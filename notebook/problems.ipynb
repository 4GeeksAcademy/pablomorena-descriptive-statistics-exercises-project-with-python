{
    "cells": [
        {
            "cell_type": "markdown",
            "id": "ac622319",
            "metadata": {},
            "source": [
                "# Descriptive statistics problems"
            ]
        },
        {
            "cell_type": "markdown",
            "id": "5e0ab0d5",
            "metadata": {},
            "source": [
                "### Exercise 1\n",
                "\n",
                "We will use NumPy to obtain information to describe statistically.\n",
                "\n",
                "- Generate an array of 100 elements following a normal distribution.\n",
                "- Generate an array of 100 elements following a chi-square distribution with 3 degrees of freedom.\n",
                "- Calculate the main metrics and statistical measures that best describe the two vectors."
            ]
        },
        {
            "cell_type": "code",
            "execution_count": 54,
            "id": "34720ab6",
            "metadata": {},
            "outputs": [
                {
                    "name": "stdout",
                    "output_type": "stream",
                    "text": [
                        "0.06565891194303264\n"
                    ]
                },
                {
                    "data": {
                        "image/png": "[encoded data removed]",
                        "text/plain": [
                            "<Figure size 640x480 with 1 Axes>"
                        ]
                    },
                    "metadata": {},
                    "output_type": "display_data"
                },
                {
                    "name": "stdout",
                    "output_type": "stream",
                    "text": [
                        "3.1242583032786033\n"
                    ]
                },
                {
                    "data": {
                        "image/png": "[encoded data removed]",
                        "text/plain": [
                            "<Figure size 640x480 with 1 Axes>"
                        ]
                    },
                    "metadata": {},
                    "output_type": "display_data"
                },
                {
                    "name": "stdout",
                    "output_type": "stream",
                    "text": [
                        "La mediana de la lista 1 es: 0.05165071001659267\n",
                        "La mediana de la lista 2 es: 2.562457207906637\n",
                        "La moda de la lista 1 es: -0.9442249746261449\n",
                        "La moda de la lista 2 es: 1.6642700848592784\n",
                        "El rango de la lista 1 es: 4.92745383756895\n",
                        "El rango de la lista 2 es: 12.779492288938853\n",
                        "La varianza de la lista 1 es: 0.8497914026209406\n",
                        "La varianza de la lista 2 es: 6.037760847303753\n",
                        "La desviación estándar de la lista 1 es: 0.9218413109754523\n",
                        "La desviación estándar de la lista 2 es: 2.4571855541052967\n",
                        "La asimetría de la lista 1 es: 0.2581463517790435\n",
                        "La asimetría de la lista 2 es: 1.4474481040408618\n",
                        "La curtosis de la lista 1 es: 0.018635699023024976\n",
                        "La curtosis de la lista 2 es: 2.429603011047827\n"
                    ]
                }
            ],
            "source": [
                "# TODO\n",
                "import numpy as np\n",
                "import statistics as stats\n",
                "import random\n",
                "import matplotlib.pyplot as plt\n",
                "from scipy.stats import skew\n",
                "from scipy.stats import kurtosis\n",
                "\n",
                "#1: Creamos el primer array con una distribución normal\n",
                "lista_1 = np.random.normal(size=100)\n",
                "mean_lista1 = stats.mean(lista_1)\n",
                "print(mean_lista1)\n",
                "plt.hist(lista_1, bins =30, alpha = 0.7)\n",
                "plt.show()\n",
                "\n",
                "#2: Creamos el segundo array con una distribución de chi-cuadrado con 3 grados de libertad\n",
                "lista_2 = np.random.chisquare(3, 100)\n",
                "mean_lista2 = stats.mean(lista_2)\n",
                "print(mean_lista2)\n",
                "plt.hist(lista_2, bins =30, alpha = 0.7)\n",
                "plt.show()\n",
                "\n",
                "#3: \n",
                "#Medidas de tendencia central\n",
                "#Medianas\n",
                "median_lista1 = stats.median(lista_1)\n",
                "median_lista2 = stats.median(lista_2)\n",
                "print(f\"La mediana de la lista 1 es: {median_lista1}\")\n",
                "print(f\"La mediana de la lista 2 es: {median_lista2}\")\n",
                "\n",
                "#Moda\n",
                "moda_lista1 = stats.mode(lista_1)\n",
                "moda_lista2 = stats.mode(lista_2)\n",
                "print(f\"La moda de la lista 1 es: {moda_lista1}\")\n",
                "print(f\"La moda de la lista 2 es: {moda_lista2}\")\n",
                "\n",
                "#Medidas de dispersión\n",
                "#Rango\n",
                "rango_lista1 = max(lista_1) - min(lista_1)\n",
                "rango_lista2 = max(lista_2) - min(lista_2)\n",
                "print(f\"El rango de la lista 1 es: {rango_lista1}\")\n",
                "print(f\"El rango de la lista 2 es: {rango_lista2}\")\n",
                "\n",
                "#Varianza\n",
                "var_lista1 = stats.variance(lista_1)\n",
                "var_lista2 = stats.variance(lista_2)\n",
                "print(f\"La varianza de la lista 1 es: {var_lista1}\")\n",
                "print(f\"La varianza de la lista 2 es: {var_lista2}\")\n",
                "\n",
                "#Desviación estándar\n",
                "desv_lista1 = stats.stdev(lista_1)\n",
                "desv_lista2 = stats.stdev(lista_2)\n",
                "print(f\"La desviación estándar de la lista 1 es: {desv_lista1}\")\n",
                "print(f\"La desviación estándar de la lista 2 es: {desv_lista2}\")\n",
                "\n",
                "#Medidas de forma\n",
                "#Asimetría\n",
                "asim_lista1 = skew(lista_1)\n",
                "asim_lista2 = skew(lista_2)\n",
                "print(f\"La asimetría de la lista 1 es: {asim_lista1}\")\n",
                "print(f\"La asimetría de la lista 2 es: {asim_lista2}\")\n",
                "\n",
                "#Kurtosis\n",
                "curt_lista1 = kurtosis(lista_1)\n",
                "curt_lista2 = kurtosis(lista_2)\n",
                "print(f\"La curtosis de la lista 1 es: {curt_lista1}\")\n",
                "print(f\"La curtosis de la lista 2 es: {curt_lista2}\")\n"
            ]
        },
        {
            "cell_type": "markdown",
            "id": "46c70c3d",
            "metadata": {},
            "source": [
                "### Exercise 2\n",
                "\n",
                "Write a Python program to calculate the standard deviation of the following data:\n",
                "\n",
                "```py\n",
                "data = [4, 2, 5, 8, 6]\n",
                "```"
            ]
        },
        {
            "cell_type": "code",
            "execution_count": null,
            "id": "d590308e",
            "metadata": {},
            "outputs": [
                {
                    "data": {
                        "text/plain": [
                            "2.23606797749979"
                        ]
                    },
                    "execution_count": 46,
                    "metadata": {},
                    "output_type": "execute_result"
                }
            ],
            "source": [
                "# TODO\n",
                "import numpy as np\n",
                "import statistics as stats\n",
                "import random\n",
                "import matplotlib.pyplot as plt\n",
                "lista = [4, 2, 5, 8, 6]\n",
                "\n",
                "def stdev(data):\n",
                "    media = stats.mean(data)\n",
                "    sumatorio = 0\n",
                "    for i in range(len(data)):\n",
                "        sumatorio += ((data[i]-media)**2)\n",
                "    return (sumatorio/(len(data)-1))**(1/2) #Restamos 1 lo que seria n (len(data)) porque estamos calculando la desviación estandar muestral\n",
                "\n",
                "stdev(lista)\n"
            ]
        }
    ],
    "metadata": {
        "kernelspec": {
            "display_name": "Python 3",
            "language": "python",
            "name": "python3"
        },
        "language_info": {
            "codemirror_mode": {
                "name": "ipython",
                "version": 3
            },
            "file_extension": ".py",
            "mimetype": "text/x-python",
            "name": "python",
            "nbconvert_exporter": "python",
            "pygments_lexer": "ipython3",
            "version": "3.11.4"
        }
    },
    "nbformat": 4,
    "nbformat_minor": 5
}
